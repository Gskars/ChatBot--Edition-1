{
  "cells": [
    {
      "cell_type": "markdown",
      "metadata": {
        "id": "view-in-github",
        "colab_type": "text"
      },
      "source": [
        "<a href=\"https://colab.research.google.com/github/Gskars/ChatBot--Edition-1/blob/main/chatbot.ipynb\" target=\"_parent\"><img src=\"https://colab.research.google.com/assets/colab-badge.svg\" alt=\"Open In Colab\"/></a>"
      ]
    },
    {
      "cell_type": "markdown",
      "source": [
        "Instalação do API Gemini"
      ],
      "metadata": {
        "id": "lk4u6PV4ZXbG"
      }
    },
    {
      "cell_type": "code",
      "execution_count": 1,
      "metadata": {
        "id": "Rdx8JxCcW3ap"
      },
      "outputs": [],
      "source": [
        "!pip install -q -U google-generativeai"
      ]
    },
    {
      "cell_type": "markdown",
      "source": [
        "Importando AI como Genai"
      ],
      "metadata": {
        "id": "9LmO94OsZhS1"
      }
    },
    {
      "cell_type": "code",
      "source": [
        "# Import the Python SDK\n",
        "import google.generativeai as genai\n",
        "from google.colab import userdata\n",
        "api_key = userdata.get('SECRET_KEY')\n",
        "genai.configure(api_key=api_key)"
      ],
      "metadata": {
        "id": "EIOYvTihYy3n"
      },
      "execution_count": 11,
      "outputs": []
    },
    {
      "cell_type": "markdown",
      "source": [
        "Listagem para ver os modelos do Gemini. Pedimos para mostrar ao final todos os modelos de Gemini que nós temos\n"
      ],
      "metadata": {
        "id": "DP6FtHFnavvc"
      }
    },
    {
      "cell_type": "code",
      "source": [
        "for model in genai.list_models():\n",
        "  if \"generateContent\" in model.supported_generation_methods:\n",
        "    print(model.name)"
      ],
      "metadata": {
        "colab": {
          "base_uri": "https://localhost:8080/",
          "height": 138
        },
        "id": "GckGQM64Zpik",
        "outputId": "bbc587fb-562c-4cee-d5d9-51524675ace6"
      },
      "execution_count": 4,
      "outputs": [
        {
          "output_type": "stream",
          "name": "stdout",
          "text": [
            "models/gemini-1.0-pro\n",
            "models/gemini-1.0-pro-001\n",
            "models/gemini-1.0-pro-latest\n",
            "models/gemini-1.0-pro-vision-latest\n",
            "models/gemini-1.5-pro-latest\n",
            "models/gemini-pro\n",
            "models/gemini-pro-vision\n"
          ]
        }
      ]
    },
    {
      "cell_type": "markdown",
      "source": [
        "Trazendo os parâmetros do chat\n"
      ],
      "metadata": {
        "id": "0MTbfnBVcvW3"
      }
    },
    {
      "cell_type": "code",
      "source": [
        "generation_config = {\n",
        "    \"candidate_count\": 1,\n",
        "    \"temperature\": 0.5\n",
        "}"
      ],
      "metadata": {
        "id": "O_d5e6TbbniH"
      },
      "execution_count": 5,
      "outputs": []
    },
    {
      "cell_type": "markdown",
      "source": [
        "Trazendo as configurações de segurança"
      ],
      "metadata": {
        "id": "HD_b2-Hqep5s"
      }
    },
    {
      "cell_type": "code",
      "source": [
        "safety_settings = {\n",
        "    \"HARASSMENT\": \"BLOCK_NONE\",\n",
        "    \"HATE\": \"BLOCK_NONE\",\n",
        "    \"SEXUAL\":  \"BLOCK_NONE\",\n",
        "    \"DANGEROUS\": \"BLOCK_NONE\"\n",
        "\n",
        "}"
      ],
      "metadata": {
        "id": "2t12RtmkdICm"
      },
      "execution_count": 6,
      "outputs": []
    },
    {
      "cell_type": "markdown",
      "source": [
        "Inicializando o modelo"
      ],
      "metadata": {
        "id": "eBL9ubdVhB8K"
      }
    },
    {
      "cell_type": "code",
      "source": [
        "model =genai.GenerativeModel(model_name = \"gemini-1.0-pro\",\n",
        "                             generation_config=generation_config,\n",
        "                             safety_settings=safety_settings)"
      ],
      "metadata": {
        "id": "98haxTKdeuGL"
      },
      "execution_count": 7,
      "outputs": []
    },
    {
      "cell_type": "markdown",
      "source": [
        "Agora aqui nós vamos começar a criar o modelo de chatbot."
      ],
      "metadata": {
        "id": "Oeuseeynhwtz"
      }
    },
    {
      "cell_type": "code",
      "source": [
        "chat = model.start_chat(history=[])"
      ],
      "metadata": {
        "id": "ukfafnKGhEPQ"
      },
      "execution_count": 8,
      "outputs": []
    },
    {
      "cell_type": "code",
      "source": [
        "def gerar_roteiro():\n",
        "\n",
        "\n",
        "  # 1. Coletar Preferências\n",
        "  destino = input(\"Destino: \")\n",
        "  duracao = int(input(\"Duração da viagem (dias): \"))\n",
        "  temporada = input(\"temporada( baixa, média, alta):\")\n",
        "  orcamento = input(\"Orçamento (baixo, médio, alto): \")\n",
        "  interesses = input(\"Interesses (ex: museus, natureza, aventura): \")\n",
        "  estilo = input(\"Estilo de viagem (ex: mochileiro, luxuosa, familiar): \")\n",
        "\n",
        "  # 2. Criar Prompt\n",
        "  prompt = f\"Crie um roteiro de viagem de {duracao} dias para {destino}, na média{temporada} com orçamento {orcamento}, focado em {interesses}, para um viajante {estilo}.\"\n",
        "\n",
        "  # 3. Gerar Roteiro\n",
        "  response = chat.send_message(prompt)\n",
        "  roteiro =  response.text\n",
        "\n",
        "\n",
        "  # 4. Formatar e Exibir Roteiro\n",
        "  print(\"Roteiro personalizado \")\n",
        "  print(roteiro)"
      ],
      "metadata": {
        "id": "GC9sB-QPiHbZ"
      },
      "execution_count": 9,
      "outputs": []
    },
    {
      "cell_type": "code",
      "source": [
        "# Loop de Conversação\n",
        "while True:\n",
        "  print(\" Escolha uma das opções: \")\n",
        "  print(\"1. Gerar novo roteiro\")\n",
        "  print(\"2. Sair\")\n",
        "\n",
        "  opcao = input(\"Escolha a opção desejável : \")\n",
        "\n",
        "  if opcao == \"1\":\n",
        "    gerar_roteiro()\n",
        "  elif opcao == \"2\":\n",
        "    print(\"Encerrando o chatbot. Até logo!\")\n",
        "    break\n",
        "  else:\n",
        "    print(\"Opção inválida. Tente novamente.\")\n",
        "\n"
      ],
      "metadata": {
        "colab": {
          "base_uri": "https://localhost:8080/",
          "height": 919
        },
        "id": "IovpsEeCy5yq",
        "outputId": "51353f04-53dd-4768-bebc-f19286436e6c"
      },
      "execution_count": 10,
      "outputs": [
        {
          "output_type": "stream",
          "name": "stdout",
          "text": [
            " Escolha uma das opções: \n",
            "1. Gerar novo roteiro\n",
            "2. Sair\n",
            "Escolha a opção desejável : 1\n",
            "Destino: Islândia\n",
            "Duração da viagem (dias): 4\n",
            "temporada( baixa, média, alta):alta\n",
            "Orçamento (baixo, médio, alto): alto\n",
            "Interesses (ex: museus, natureza, aventura): aventura\n",
            "Estilo de viagem (ex: mochileiro, luxuosa, familiar): familiar\n",
            "Roteiro personalizado \n",
            "**Dia 1**\n",
            "\n",
            "* Chegue ao Aeroporto Internacional de Keflavík (KEF) e alugue um carro 4x4.\n",
            "* Dirija para Reykjavík e faça o check-in em um hotel de luxo, como o Hotel Borg ou o Hotel Reykjavík Edition.\n",
            "* Explore o centro da cidade e visite a icônica Igreja Hallgrímskirkja.\n",
            "* Jante no Restaurante Dill, com estrela Michelin, para uma experiência gastronômica excepcional.\n",
            "\n",
            "**Dia 2**\n",
            "\n",
            "* Faça uma excursão de observação de baleias e golfinhos na Baía de Faxaflói.\n",
            "* Visite o Museu Nacional da Islândia para aprender sobre a rica história e cultura do país.\n",
            "* Dirija até a Península de Snæfellsnes e faça uma caminhada até o vulcão Snæfellsjökull.\n",
            "* Jante no Restaurante Sjávarborg, conhecido por seus frutos do mar frescos.\n",
            "\n",
            "**Dia 3**\n",
            "\n",
            "* Faça uma excursão de dia inteiro ao Parque Nacional de Þingvellir, Patrimônio Mundial da UNESCO.\n",
            "* Caminhe pela fenda de Silfra, um local de mergulho e snorkel único entre as placas tectônicas norte-americana e eurasiática.\n",
            "* Visite a cachoeira Gullfoss e explore o cânion do rio Hvítá.\n",
            "* Jante no Restaurante Ox, especializado em cozinha islandesa moderna.\n",
            "\n",
            "**Dia 4**\n",
            "\n",
            "* Dirija até o Círculo Dourado e visite a cachoeira Geysir, que entra em erupção regularmente.\n",
            "* Explore a área geotérmica de Haukadalur e veja as fontes termais borbulhantes.\n",
            "* Visite o Parque Nacional de Þórsmörk e faça uma caminhada até a cachoeira Skógafoss.\n",
            "* Jante no Restaurante Grillmarkaðurinn, conhecido por seus grelhados e frutos do mar.\n",
            "* Retorne ao Aeroporto de Keflavík para o voo de partida.\n",
            "\n",
            "**Dicas adicionais:**\n",
            "\n",
            "* Reserve excursões e acomodações com antecedência, especialmente durante a alta temporada.\n",
            "* Esteja preparado para condições climáticas variáveis e traga roupas adequadas.\n",
            "* Alugue um carro 4x4 para acesso a estradas remotas e terrenos acidentados.\n",
            "* Leve uma câmera para capturar as paisagens deslumbrantes.\n",
            "* Respeite a natureza e siga as regras do parque nacional.\n",
            " Escolha uma das opções: \n",
            "1. Gerar novo roteiro\n",
            "2. Sair\n",
            "Escolha a opção desejável : 2\n",
            "Encerrando o chatbot. Até logo!\n"
          ]
        }
      ]
    },
    {
      "cell_type": "code",
      "source": [
        "# Melhorando a visualização\n",
        "# Código disponível em https://ai.google.dev/tutorials/python_quickstart#import_packages\n",
        "import textwrap\n",
        "from IPython.display import display\n",
        "from IPython.display import Markdown\n",
        "\n",
        "def to_markdown(text):\n",
        "  text = text.replace('•', '  *')\n",
        "  return Markdown(textwrap.indent(text, '> ', predicate=lambda _: True))\n",
        "\n",
        "#Imprimindo o histórico\n",
        "for message in chat.history:\n",
        "  display(to_markdown(f'**{message.role}**: {message.parts[0].text}'))\n",
        "  print('-------------------------------------------')\n"
      ],
      "metadata": {
        "id": "wHTUTwm2sQ8T",
        "colab": {
          "base_uri": "https://localhost:8080/",
          "height": 1000
        },
        "outputId": "87006ab9-06b8-4a2b-f128-7eab1ab1c874"
      },
      "execution_count": null,
      "outputs": [
        {
          "output_type": "display_data",
          "data": {
            "text/plain": [
              "<IPython.core.display.Markdown object>"
            ],
            "text/markdown": "> **user**: Crie um roteiro de viagem de 5 dias para Campinas, na  alta com orçamento alto, focado em aventura, para um viajante familiar. **Use formatação Markdown para organizar o roteiro (dias, títulos, etc.).**"
          },
          "metadata": {}
        },
        {
          "output_type": "stream",
          "name": "stdout",
          "text": [
            "-------------------------------------------\n"
          ]
        },
        {
          "output_type": "display_data",
          "data": {
            "text/plain": [
              "<IPython.core.display.Markdown object>"
            ],
            "text/markdown": "> **model**: ## Roteiro de Aventura em Campinas - 5 Dias (Orçamento Alto)\n> \n> **Família aventureira, preparem-se para 5 dias de adrenalina e diversão em Campinas!**\n> \n> **Dia 1 - Chegada e Aventuras Aéreas:**\n> \n> * **Manhã:** Chegada em Campinas e acomodação no Royal Palm Plaza Resort. Relaxe e aproveite as piscinas e áreas de lazer do hotel.\n> * **Tarde:**  Aventura radical no **Go Jump Park Campinas**, com saltos de bungee jump, pêndulo humano e outras atividades desafiadoras. \n> * **Noite:** Jantar sofisticado no restaurante **Casa Bellini**, com culinária italiana refinada e ambiente elegante.\n> \n> **Dia 2 - Trilhas e Cachoeiras:**\n> \n> * **Manhã:**  Explore a natureza exuberante do **Parque Estadual Serra do Japi** em uma trilha guiada, desfrutando de paisagens deslumbrantes e cachoeiras refrescantes.\n> * **Tarde:**  Almoço em um restaurante charmoso na região da Serra do Japi, com vista panorâmica.\n> * **Noite:** Relaxe no **Spa do Royal Palm Plaza**, desfrutando de massagens relaxantes e tratamentos revigorantes.\n> \n> **Dia 3 - Velocidade e Emoção:**\n> \n> * **Manhã:**  Viva a emoção do automobilismo no **Kartódromo Internacional de Campinas**, acelerando em karts de alta performance.\n> * **Tarde:**  Almoço no restaurante temático do kartódromo, com ambiente vibrante e cardápio variado.\n> * **Noite:**  Jantar no premiado restaurante **Esquinica**, com gastronomia contemporânea e ambiente sofisticado.\n> \n> **Dia 4 - Cultura e História:**\n> \n> * **Manhã:**  Visite o **Museu de Arte Contemporânea de Campinas** (MACC), explorando exposições de arte moderna e contemporânea.\n> * **Tarde:**  Almoço no charmoso **Restaurante do MACC**, com vista para o jardim e menu inspirado na culinária brasileira.\n> * **Noite:**  Assistam a um espetáculo no **Teatro Castro Mendes**, um dos principais teatros da cidade, com programação diversificada.\n> \n> **Dia 5 - Despedida em Grande Estilo:**\n> \n> * **Manhã:**  Aproveite a estrutura do Royal Palm Plaza Resort, relaxando nas piscinas, jogando tênis ou desfrutando das atividades de lazer.\n> * **Tarde:**  Almoço especial no restaurante **La Palette**, com culinária francesa requintada e ambiente elegante.\n> * **Noite:**  Check-out do hotel e traslado para o aeroporto, levando na bagagem lembranças inesquecíveis da aventura em Campinas.\n> \n> **Observações:**\n> \n> * Este roteiro é uma sugestão, você pode personalizá-lo de acordo com as preferências da sua família.\n> * O orçamento alto permite desfrutar de hotéis de luxo, restaurantes sofisticados e atividades premium.\n> * Certifique-se de fazer reservas com antecedência para garantir a disponibilidade de hotéis, passeios e restaurantes.\n> * Use roupas e calçados confortáveis para as atividades de aventura.\n> * Leve protetor solar, repelente contra mosquitos e outros itens essenciais para aproveitar ao máximo as atividades ao ar livre.\n> \n> **Desejamos a vocês uma viagem inesquecível cheia de aventura e momentos memoráveis em Campinas!** \n"
          },
          "metadata": {}
        },
        {
          "output_type": "stream",
          "name": "stdout",
          "text": [
            "-------------------------------------------\n"
          ]
        },
        {
          "output_type": "display_data",
          "data": {
            "text/plain": [
              "<IPython.core.display.Markdown object>"
            ],
            "text/markdown": "> **user**: Crie um roteiro de viagem de 2 dias para Serra Negra, na médiaalta com orçamento alto, focado em aventura, para um viajante familiar."
          },
          "metadata": {}
        },
        {
          "output_type": "stream",
          "name": "stdout",
          "text": [
            "-------------------------------------------\n"
          ]
        },
        {
          "output_type": "display_data",
          "data": {
            "text/plain": [
              "<IPython.core.display.Markdown object>"
            ],
            "text/markdown": "> **model**: ## Aventura em Família em Serra Negra - 2 Dias (Orçamento Alto)\n> \n> Preparem-se para uma escapada inesquecível de 2 dias em Serra Negra, repleta de aventura e paisagens deslumbrantes!\n> \n> **Dia 1 - Imersão na Natureza e Adrenalina:**\n> \n> * **Manhã:** Chegada em Serra Negra e acomodação no charmoso Hotel Serra Negra Thermas Resort & Spa. Relaxe e aproveite as piscinas e áreas de lazer do hotel, com vista panorâmica para as montanhas.\n> * **Tarde:** Aventura radical no **Cable Car Serra Negra**, desfrutando de tirolesas emocionantes, arvorismo desafiador e teleférico com vistas espetaculares da Serra da Mantiqueira.\n> * **Noite:** Jantar requintado no restaurante **Il Gattopardo**, com culinária italiana autêntica e ambiente romântico.\n> \n> **Dia 2 - Exploração e Relaxamento:**\n> \n> * **Manhã:**  Desfrute de um passeio de **quadriciclo** pelas trilhas da região, explorando paisagens montanhosas e cachoeiras escondidas.\n> * **Tarde:**  Almoço em um restaurante aconchegante na área rural de Serra Negra, saboreando pratos da culinária local.\n> * **Final da tarde:** Relaxe no renomado **Spa do Hotel Serra Negra Thermas**, desfrutando de massagens relaxantes e tratamentos revigorantes.\n> * **Noite:** Jantar especial no restaurante **Le Chalet**, com gastronomia internacional e ambiente elegante.\n> \n> **Observações:**\n> \n> * Este roteiro é uma sugestão, você pode personalizá-lo de acordo com as preferências da sua família.\n> * O orçamento alto permite desfrutar de hotéis de luxo, restaurantes sofisticados e atividades premium.\n> * Certifique-se de fazer reservas com antecedência para garantir a disponibilidade de hotéis, passeios e restaurantes.\n> * Use roupas e calçados confortáveis para as atividades de aventura.\n> * Leve protetor solar, repelente contra mosquitos e outros itens essenciais para aproveitar ao máximo as atividades ao ar livre.\n> \n> **Desejamos a vocês uma viagem inesquecível cheia de aventura e momentos memoráveis em Serra Negra!** \n"
          },
          "metadata": {}
        },
        {
          "output_type": "stream",
          "name": "stdout",
          "text": [
            "-------------------------------------------\n"
          ]
        },
        {
          "output_type": "display_data",
          "data": {
            "text/plain": [
              "<IPython.core.display.Markdown object>"
            ],
            "text/markdown": "> **user**: Crie um roteiro de viagem de 5 dias para Campinas, na médiaalta com orçamento alto, focado em aventura, para um viajante familiar."
          },
          "metadata": {}
        },
        {
          "output_type": "stream",
          "name": "stdout",
          "text": [
            "-------------------------------------------\n"
          ]
        },
        {
          "output_type": "display_data",
          "data": {
            "text/plain": [
              "<IPython.core.display.Markdown object>"
            ],
            "text/markdown": "> **model**: ## Aventura em Família em Campinas - 5 Dias (Orçamento Alto)\n> \n> Preparem-se para uma viagem inesquecível de 5 dias em Campinas, repleta de aventura, diversão e experiências memoráveis para toda a família!\n> \n> **Dia 1 - Chegada Triunfal e Aventuras Aéreas:**\n> \n> * **Manhã:** Chegada em Campinas e acomodação no elegante Vitória Hotel Concept Campinas. Relaxe e aproveite as piscinas e áreas de lazer do hotel, desfrutando do conforto e sofisticação.\n> * **Tarde:**  Desbrave os céus com um emocionante voo de **helicóptero** panorâmico sobre a cidade, contemplando paisagens deslumbrantes e pontos turísticos icônicos.\n> * **Noite:**  Jantar sofisticado no restaurante **Bistrô Vila Paraíso**, com culinária contemporânea e ambiente charmoso.\n> \n> **Dia 2 - Trilhas, Cachoeiras e Delícias Rurais:**\n> \n> * **Manhã:** Explore a natureza exuberante do **Parque Estadual Serra do Japi** em uma trilha guiada, desfrutando de paisagens deslumbrantes, cachoeiras refrescantes e ar puro.\n> * **Tarde:**  Almoço em um charmoso restaurante rural na região da Serra do Japi, saboreando pratos da culinária local e desfrutando da atmosfera acolhedora.\n> * **Noite:** Relaxe no **Spa do Vitória Hotel Concept**, desfrutando de massagens relaxantes e tratamentos revigorantes para recarregar as energias.\n> \n> **Dia 3 - Velocidade, Emoção e Pizza Deliciosa:**\n> \n> * **Manhã:**  Acelere a adrenalina no **Kartódromo Internacional de Campinas**, desafiando seus familiares em corridas emocionantes de kart.\n> * **Tarde:**  Almoço no restaurante temático do kartódromo, com ambiente vibrante e cardápio variado.\n> * **Noite:**  Delicie-se com uma autêntica pizza napolitana no premiado restaurante **1900 Pizzeria**, com massa leve, ingredientes frescos e sabores irresistíveis.\n> \n> **Dia 4 - Cultura, História e Sabores Exóticos:**\n> \n> * **Manhã:**  Mergulhe na história da imigração japonesa no **Museu da Imigração Japonesa**, explorando exposições fascinantes e conhecendo a rica cultura japonesa.\n> * **Tarde:**  Almoço em um autêntico restaurante japonês, experimentando pratos tradicionais e sabores exóticos da culinária japonesa.\n> * **Noite:** Assista a um espetáculo no **Teatro Municipal José de Castro Mendes**, um dos principais teatros da cidade, com programação diversificada e apresentações de alta qualidade.\n> \n> **Dia 5 - Despedida em Grande Estilo e Compras Sofisticadas:**\n> \n> * **Manhã:**  Desfrute da estrutura do Vitória Hotel Concept, relaxando nas piscinas, jogando tênis ou desfrutando das atividades de lazer.\n> * **Tarde:**  Almoço especial no sofisticado restaurante **Coco Bambu Campinas**, com culinária brasileira contemporânea e ambiente elegante.\n> * **Final da tarde:**  Realize compras no **Shopping Iguatemi Campinas**, um dos maiores e mais completos shoppings da cidade, com lojas de marcas renomadas e opções para todos os gostos.\n> * **Noite:**  Check-out do hotel e traslado para o aeroporto, levando na bagagem lembranças inesquecíveis da aventura em Campinas.\n> \n> **Observações:**\n> \n> * Este roteiro é uma sugestão, você pode personalizá-lo de acordo com as preferências da sua família.\n> * O orçamento alto permite desfrutar de hotéis de luxo, restaurantes sofisticados, atividades premium e experiências exclusivas.\n> * Certifique-se de fazer reservas com antecedência para garantir a disponibilidade de hotéis, passeios e restaurantes.\n> * Use roupas e calçados confortáveis para as atividades de aventura.\n> * Leve protetor solar, repelente contra mosquitos e outros itens essenciais para aproveitar ao máximo as atividades ao ar livre.\n> \n> **Desejamos a vocês uma viagem inesquecível cheia de aventura, momentos memoráveis e experiências enriquecedoras em Campinas!** \n"
          },
          "metadata": {}
        },
        {
          "output_type": "stream",
          "name": "stdout",
          "text": [
            "-------------------------------------------\n"
          ]
        },
        {
          "output_type": "display_data",
          "data": {
            "text/plain": [
              "<IPython.core.display.Markdown object>"
            ],
            "text/markdown": "> **user**: Crie um roteiro de viagem de 2 dias para Vinhedo, na médiaalta com orçamento alto, focado em aventura , para um viajante familiar."
          },
          "metadata": {}
        },
        {
          "output_type": "stream",
          "name": "stdout",
          "text": [
            "-------------------------------------------\n"
          ]
        },
        {
          "output_type": "display_data",
          "data": {
            "text/plain": [
              "<IPython.core.display.Markdown object>"
            ],
            "text/markdown": "> **model**: ## Aventura em Família em Vinhedo - 2 Dias (Orçamento Alto)\n> \n> Preparem-se para uma escapada emocionante de 2 dias em Vinhedo, explorando paisagens deslumbrantes e desfrutando de momentos memoráveis em família!\n> \n> **Dia 1 - Aventuras nas Alturas e Delícias Italianas:**\n> \n> * **Manhã:** Chegada em Vinhedo e acomodação no luxuoso Hotel Vila Michelon, um refúgio romântico com vista para as montanhas. Relaxe e aproveite as piscinas, áreas de lazer e o charme acolhedor do hotel.\n> * **Tarde:**  Desafie seus limites no **Adrenalin Park**, um parque de aventura com tirolesas emocionantes, arvorismo desafiador, paintball estratégico e outras atividades que farão sua adrenalina disparar.\n> * **Noite:**  Delicie-se com um jantar sofisticado no renomado restaurante **Famiglia Mancini Ristorante**, saboreando autêntica culinária italiana em um ambiente elegante e acolhedor.\n> \n> **Dia 2 - Exploração, Relaxamento e Sabores Inesquecíveis:**\n> \n> * **Manhã:** Explore a beleza natural da região em um **passeio de bicicleta** pelas trilhas da Serra dos Cocais, desfrutando de paisagens verdejantes, ar puro e vistas panorâmicas.\n> * **Tarde:**  Relaxe e recarregue as energias no **Spa do Hotel Vila Michelon**, desfrutando de massagens relaxantes, tratamentos revigorantes e momentos de tranquilidade.\n> * **Noite:**  Encerre sua aventura com um jantar memorável no restaurante **Esquinica**, um dos melhores da região, com gastronomia contemporânea, ambiente sofisticado e sabores que irão encantá-lo.\n> \n> **Observações:**\n> \n> * Este roteiro é uma sugestão, você pode personalizá-lo de acordo com as preferências da sua família.\n> * O orçamento alto permite desfrutar de hotéis de luxo, restaurantes sofisticados, atividades premium e experiências exclusivas.\n> * Certifique-se de fazer reservas com antecedência para garantir a disponibilidade de hotéis, passeios e restaurantes.\n> * Use roupas e calçados confortáveis para as atividades de aventura.\n> * Leve protetor solar, repelente contra mosquitos e outros itens essenciais para aproveitar ao máximo as atividades ao ar livre.\n> \n> **Desejamos a vocês uma viagem inesquecível repleta de aventura, momentos memoráveis e paisagens encantadoras em Vinhedo!** \n"
          },
          "metadata": {}
        },
        {
          "output_type": "stream",
          "name": "stdout",
          "text": [
            "-------------------------------------------\n"
          ]
        },
        {
          "output_type": "display_data",
          "data": {
            "text/plain": [
              "<IPython.core.display.Markdown object>"
            ],
            "text/markdown": "> **user**: Crie um roteiro de viagem de 6 dias para Islândia , na média alta com orçamento alto, focado em aventura, para um viajante familiar."
          },
          "metadata": {}
        },
        {
          "output_type": "stream",
          "name": "stdout",
          "text": [
            "-------------------------------------------\n"
          ]
        },
        {
          "output_type": "display_data",
          "data": {
            "text/plain": [
              "<IPython.core.display.Markdown object>"
            ],
            "text/markdown": "> **model**: ## Aventura Épica na Islândia - 6 Dias (Orçamento Alto)\n> \n> Preparem-se para uma jornada inesquecível de 6 dias pela Islândia, explorando paisagens vulcânicas, geleiras majestosas e fenômenos naturais impressionantes!\n> \n> **Dia 1 - Reykjavík Vibrante e Aurora Boreal:**\n> \n> * **Manhã:** Chegada em Reykjavík e acomodação no luxuoso Hotel Borg by Keahotels. Explore a charmosa capital islandesa, visitando a Hallgrímskirkja Church, o Harpa Concert Hall e o Museu Nacional da Islândia.\n> * **Tarde:**  Mergulhe na cultura islandesa no **Blue Lagoon**, relaxando em suas águas geotermais e desfrutando de tratamentos rejuvenescedores.\n> * **Noite:**  Embarque em uma **excursão guiada para observar a Aurora Boreal**, um espetáculo mágico de luzes dançantes no céu noturno.\n> \n> **Dia 2 - Círculo Dourado e Aventuras Glaciais:**\n> \n> * **Manhã:** Explore o famoso **Círculo Dourado**, visitando o Parque Nacional Thingvellir, a cachoeira Gullfoss e a área geotermal de Geysir, com seus gêiseres jorrando água quente.\n> * **Tarde:** Aventura emocionante em um **passeio de snowmobile pela geleira Langjökull**, desfrutando de vistas espetaculares e paisagens glaciais de tirar o fôlego.\n> * **Noite:**  Acomodação em um hotel charmoso na região do Círculo Dourado, como o Hotel Ranga.\n> \n> **Dia 3 - Costa Sul, Cachoeiras e Praias de Areia Negra:**\n> \n> * **Manhã:**  Encante-se com a beleza da **costa sul da Islândia**, visitando as cachoeiras Seljalandsfoss e Skógafoss, a praia de areia negra Reynisfjara e o mirante Dyrhólaey.\n> * **Tarde:** Caminhada emocionante em uma **caverna de gelo natural**, explorando formações glaciais impressionantes e aprendendo sobre a geologia da região.\n> * **Noite:**  Acomodação em um hotel aconchegante na costa sul, como o Hotel Katla Hofdabrekka.\n> \n> **Dia 4 - Lagoa Glacial Jökulsárlón e Parque Nacional Vatnajökull:**\n> \n> * **Manhã:**  Navegue pela **lagoa glacial Jökulsárlón**, observando icebergs flutuantes e focas brincando nas águas cristalinas.\n> * **Tarde:**  Explore o **Parque Nacional Vatnajökull**, o maior parque nacional da Europa, com paisagens vulcânicas, geleiras, rios glaciais e cachoeiras espetaculares.\n> * **Noite:**  Acomodação em um hotel com vista para a lagoa glacial, como o Fosshotel Glacier Lagoon.\n> \n> **Dia 5 - Retorno a Reykjavík e Delícias Culinárias:**\n> \n> * **Manhã:**  Retorno a Reykjavík, desfrutando da beleza cênica da estrada e parando em pontos turísticos ao longo do caminho.\n> * **Tarde:**  Explore a cena gastronômica de Reykjavík, saboreando pratos da culinária islandesa moderna em um restaurante premiado, como o Dill Restaurant.\n> * **Noite:**  Desfrute de uma experiência cultural única em um show de música folclórica islandesa, como o Harpa Concert Hall.\n> \n> **Dia 6 - Despedida Memorável:**\n> \n> * **Manhã:**  Última oportunidade para compras de souvenirs e exploração da cidade de Reykjavík.\n> * **Tarde:**  Traslado para o Aeroporto Internacional de Keflavík, levando na bagagem lembranças inesquecíveis da aventura épica na Islândia.\n> \n> **Observações:**\n> \n> * Este roteiro é uma sugestão, você pode personalizá-lo de acordo com as preferências da sua família.\n> * O orçamento alto permite desfrutar de hotéis de luxo, restaurantes sofisticados, atividades premium e experiências exclusivas.\n> * Certifique-se de fazer reservas com antecedência para garantir a disponibilidade de hotéis, passeios e voos.\n> * A Islândia tem clima imprevisível, então leve roupas adequadas para todas as condições climáticas.\n> * Alugar um carro 4x4 é recomendado para explorar as áreas mais remotas da Islândia.\n> \n> **Desejamos a vocês uma viagem épica e inesquecível pela Islândia, repleta de aventura, paisagens deslumbrantes e momentos memoráveis em família!** \n"
          },
          "metadata": {}
        },
        {
          "output_type": "stream",
          "name": "stdout",
          "text": [
            "-------------------------------------------\n"
          ]
        },
        {
          "output_type": "display_data",
          "data": {
            "text/plain": [
              "<IPython.core.display.Markdown object>"
            ],
            "text/markdown": "> **user**: Crie um roteiro de viagem de 4 dias para Campinas, na médiaalta com orçamento alto, focado em aventura, para um viajante familiar."
          },
          "metadata": {}
        },
        {
          "output_type": "stream",
          "name": "stdout",
          "text": [
            "-------------------------------------------\n"
          ]
        },
        {
          "output_type": "display_data",
          "data": {
            "text/plain": [
              "<IPython.core.display.Markdown object>"
            ],
            "text/markdown": "> **model**: ## Aventura em Família em Campinas - 4 Dias (Orçamento Alto)\n> \n> Preparem-se para uma viagem inesquecível de 4 dias em Campinas, repleta de aventura, diversão e experiências memoráveis para toda a família!\n> \n> **Dia 1 - Chegada Elegante e Aventuras Aéreas:**\n> \n> * **Manhã:** Chegada em Campinas e acomodação no sofisticado The Royal Palm Plaza Resort Campinas. Relaxe e aproveite as piscinas, áreas de lazer e o conforto deste hotel 5 estrelas.\n> * **Tarde:**  Desfrute da emoção de um voo panorâmico de **balão**, contemplando paisagens deslumbrantes de Campinas e seus arredores.\n> * **Noite:**  Jantar sofisticado no restaurante **Casa Bellini**, com culinária italiana refinada e ambiente elegante.\n> \n> **Dia 2 - Trilhas, Cachoeiras e Delícias Rurais:**\n> \n> * **Manhã:** Explore a natureza exuberante do **Parque Estadual Serra do Japi** em uma trilha guiada, desfrutando de paisagens deslumbrantes, cachoeiras refrescantes e ar puro.\n> * **Tarde:**  Almoço em um charmoso restaurante rural na região da Serra do Japi, saboreando pratos da culinária local e desfrutando da atmosfera acolhedora.\n> * **Noite:** Relaxe no **Spa do The Royal Palm Plaza Resort**, desfrutando de massagens relaxantes e tratamentos revigorantes para recarregar as energias.\n> \n> **Dia 3 - Velocidade, Emoção e Pizza Deliciosa:**\n> \n> * **Manhã:**  Acelere a adrenalina no **Campinas Kartódromo Internacional**, desafiando seus familiares em corridas emocionantes de kart.\n> * **Tarde:**  Almoço no restaurante temático do kartódromo, com ambiente vibrante e cardápio variado.\n> * **Noite:**  Delicie-se com uma autêntica pizza napolitana no premiado restaurante **1900 Pizzeria**, com massa leve, ingredientes frescos e sabores irresistíveis.\n> \n> **Dia 4 - Cultura, História e Despedida em Grande Estilo:**\n> \n> * **Manhã:**  Mergulhe na história da imigração japonesa no **Museu da Imigração Japonesa**, explorando exposições fascinantes e conhecendo a rica cultura japonesa.\n> * **Tarde:**  Almoço especial no sofisticado restaurante **Coco Bambu Campinas**, com culinária brasileira contemporânea e ambiente elegante.\n> * **Final da tarde:**  Realize compras no **Shopping Iguatemi Campinas**, um dos maiores e mais completos shoppings da cidade, com lojas de marcas renomadas e opções para todos os gostos.\n> * **Noite:**  Check-out do hotel e traslado para o aeroporto, levando na bagagem lembranças inesquecíveis da aventura em Campinas.\n> \n> **Observações:**\n> \n> * Este roteiro é uma sugestão, você pode personalizá-lo de acordo com as preferências da sua família.\n> * O orçamento alto permite desfrutar de hotéis de luxo, restaurantes sofisticados, atividades premium e experiências exclusivas.\n> * Certifique-se de fazer reservas com antecedência para garantir a disponibilidade de hotéis, passeios e restaurantes.\n> * Use roupas e calçados confortáveis para as atividades de aventura.\n> * Leve protetor solar, repelente contra mosquitos e outros itens essenciais para aproveitar ao máximo as atividades ao ar livre.\n> \n> **Desejamos a vocês uma viagem inesquecível cheia de aventura, momentos memoráveis e experiências enriquecedoras em Campinas!** \n"
          },
          "metadata": {}
        },
        {
          "output_type": "stream",
          "name": "stdout",
          "text": [
            "-------------------------------------------\n"
          ]
        },
        {
          "output_type": "display_data",
          "data": {
            "text/plain": [
              "<IPython.core.display.Markdown object>"
            ],
            "text/markdown": "> **user**: Crie um roteiro de viagem de 5 dias para campinas, na médiaalta com orçamento alto, focado em aventura, para um viajante familiar."
          },
          "metadata": {}
        },
        {
          "output_type": "stream",
          "name": "stdout",
          "text": [
            "-------------------------------------------\n"
          ]
        },
        {
          "output_type": "display_data",
          "data": {
            "text/plain": [
              "<IPython.core.display.Markdown object>"
            ],
            "text/markdown": "> **model**: ## Aventura em Família em Campinas - 5 Dias (Orçamento Alto)\n> \n> Preparem-se para uma viagem inesquecível de 5 dias em Campinas, repleta de adrenalina, paisagens deslumbrantes e momentos memoráveis para toda a família!\n> \n> **Dia 1 - Chegada Triunfal e Mergulho na História:**\n> \n> * **Manhã:** Chegada em Campinas e acomodação no elegante Vitória Hotel Concept Campinas, desfrutando de suas piscinas, áreas de lazer e conforto.\n> * **Tarde:**  Viagem no tempo no **Museu da Imigração**, explorando a rica história da imigração em Campinas e as diversas culturas que moldaram a cidade.\n> * **Noite:**  Jantar sofisticado no restaurante **Bistrô Vila Paraíso**, com culinária contemporânea e ambiente charmoso.\n> \n> **Dia 2 - Aventuras Aéreas e Delícias Rurais:**\n> \n> * **Manhã:**  Desfrute da emoção de um voo panorâmico de **helicóptero** sobre a cidade, contemplando paisagens deslumbrantes e pontos turísticos icônicos.\n> * **Tarde:**  Almoço em um charmoso restaurante rural na região da Serra do Japi, saboreando pratos da culinária local e desfrutando da atmosfera acolhedora.\n> * **Noite:** Relaxe no **Spa do Vitória Hotel Concept**, desfrutando de massagens relaxantes e tratamentos revigorantes para recarregar as energias.\n> \n> **Dia 3 - Trilhas, Cachoeiras e Encontro com a Natureza:**\n> \n> * **Manhã:** Explore a natureza exuberante do **Parque Estadual Serra do Japi** em uma trilha guiada, desfrutando de paisagens deslumbrantes, cachoeiras refrescantes e ar puro.\n> * **Tarde:**  Aventura emocionante em um **passeio de quadriciclo** pelas trilhas da região, desfrutando da adrenalina e da beleza natural.\n> * **Noite:**  Delicie-se com uma autêntica pizza napolitana no premiado restaurante **1900 Pizzeria**, com massa leve, ingredientes frescos e sabores irresistíveis.\n> \n> **Dia 4 - Velocidade, Emoção e Compras Sofisticadas:**\n> \n> * **Manhã:**  Acelere a adrenalina no **Kartódromo Internacional de Campinas**, desafiando seus familiares em corridas emocionantes de kart.\n> * **Tarde:**  Realize compras no **Shopping Iguatemi Campinas**, um dos maiores e mais completos shoppings da cidade, com lojas de marcas renomadas e opções para todos os gostos.\n> * **Noite:** Assista a um espetáculo no **Teatro Municipal José de Castro Mendes**, um dos principais teatros da cidade, com programação diversificada e apresentações de alta qualidade.\n> \n> **Dia 5 - Despedida em Grande Estilo e Sabores Inesquecíveis:**\n> \n> * **Manhã:**  Desfrute da estrutura do Vitória Hotel Concept, relaxando nas piscinas, jogando tênis ou desfrutando das atividades de lazer.\n> * **Tarde:**  Almoço especial no sofisticado restaurante **Coco Bambu Campinas**, com culinária brasileira contemporânea e ambiente elegante.\n> * **Noite:**  Check-out do hotel e traslado para o aeroporto, levando na bagagem lembranças inesquecíveis da aventura em Campinas.\n> \n> **Observações:**\n> \n> * Este roteiro é uma sugestão, você pode personalizá-lo de acordo com as preferências da sua família.\n> * O orçamento alto permite desfrutar de hotéis de luxo, restaurantes sofisticados, atividades premium e experiências exclusivas.\n> * Certifique-se de fazer reservas com antecedência para garantir a disponibilidade de hotéis, passeios e restaurantes.\n> * Use roupas e calçados confortáveis para as atividades de aventura.\n> * Leve protetor solar, repelente contra mosquitos e outros itens essenciais para aproveitar ao máximo as atividades ao ar livre.\n> \n> **Desejamos a vocês uma viagem inesquecível cheia de aventura, momentos memoráveis e experiências enriquecedoras em Campinas!** \n"
          },
          "metadata": {}
        },
        {
          "output_type": "stream",
          "name": "stdout",
          "text": [
            "-------------------------------------------\n"
          ]
        },
        {
          "output_type": "display_data",
          "data": {
            "text/plain": [
              "<IPython.core.display.Markdown object>"
            ],
            "text/markdown": "> **user**: Crie um roteiro de viagem de 5 dias para Londres, na médiaalta com orçamento alto, focado em natureza, para um viajante familiar."
          },
          "metadata": {}
        },
        {
          "output_type": "stream",
          "name": "stdout",
          "text": [
            "-------------------------------------------\n"
          ]
        },
        {
          "output_type": "display_data",
          "data": {
            "text/plain": [
              "<IPython.core.display.Markdown object>"
            ],
            "text/markdown": "> **model**: ## Londres Verde: Roteiro Familiar de 5 Dias (Orçamento Alto)\n> \n> Fuja da agitação urbana e descubra a faceta verde de Londres com a família! Este roteiro de 5 dias combina natureza exuberante com o charme britânico, proporcionando experiências memoráveis para todas as idades.\n> \n> **Dia 1 - Chegada Majestosa e Refúgio Verde:**\n> \n> * **Manhã:** Chegada em Londres e acomodação no luxuoso The Dorchester, localizado próximo ao Hyde Park. Relaxe e aproveite o conforto e a elegância deste hotel icônico.\n> * **Tarde:**  Passeio de barco pelo Rio Tâmisa, desfrutando de vistas panorâmicas da cidade e seus principais pontos turísticos.\n> * **Noite:**  Jantar requintado no The Grill at The Dorchester, saboreando pratos da culinária britânica moderna em um ambiente sofisticado.\n> \n> **Dia 2 - Imersão na Natureza Real:**\n> \n> * **Manhã:**  Explore os encantos do **Richmond Park**, um dos maiores parques reais de Londres, lar de cervos selvagens, paisagens deslumbrantes e o Isabella Plantation, um jardim exuberante com flores exóticas.\n> * **Tarde:**  Almoço em um charmoso pub em Richmond, desfrutando da culinária tradicional britânica e da atmosfera acolhedora.\n> * **Noite:**  Assista a um musical no West End, desfrutando da magia do teatro londrino.\n> \n> **Dia 3 - Jardins Encantadores e Aventuras em Kew:**\n> \n> * **Manhã:**  Passeio pelos encantadores jardins de **Kew Gardens**, um Patrimônio Mundial da UNESCO, com estufas vitorianas, paisagens exuberantes e uma coleção botânica impressionante.\n> * **Tarde:**  Aventura em família no **Treetop Walkway**, uma passarela suspensa que oferece vistas panorâmicas dos jardins e da natureza ao redor.\n> * **Noite:**  Jantar em um restaurante com vista para o Rio Tâmisa, desfrutando da culinária internacional e do cenário encantador.\n> \n> **Dia 4 - Caminhada Real e Charme Britânico:**\n> \n> * **Manhã:**  Caminhada revigorante por **Bushy Park**, outro parque real com paisagens deslumbrantes, lagos tranquilos e uma variedade de aves aquáticas.\n> * **Tarde:**  Chá da tarde tradicional no The Orangery, em Kensington Palace, desfrutando de deliciosos quitutes e da atmosfera elegante.\n> * **Noite:**  Jantar em um restaurante com estrela Michelin, experimentando a alta gastronomia londrina.\n> \n> **Dia 5 - Despedida Verde e Compras Sofisticadas:**\n> \n> * **Manhã:**  Último passeio pelo **Hyde Park**, desfrutando da natureza exuberante, do lago Serpentine e do Speaker's Corner.\n> * **Tarde:**  Compras em lojas de departamentos icônicas, como Harrods e Selfridges, encontrando lembranças e artigos de luxo.\n> * **Noite:**  Traslado para o aeroporto, levando na bagagem lembranças inesquecíveis da Londres verde e seus encantos naturais.\n> \n> **Observações:**\n> \n> * Este roteiro é uma sugestão, você pode personalizá-lo de acordo com as preferências da sua família.\n> * O orçamento alto permite desfrutar de hotéis de luxo, restaurantes sofisticados, atividades premium e experiências exclusivas.\n> * Certifique-se de fazer reservas com antecedência para garantir a disponibilidade de hotéis, passeios e restaurantes.\n> * Leve roupas adequadas para todas as condições climáticas, pois o clima em Londres pode ser imprevisível.\n> * Utilize o transporte público eficiente de Londres para se locomover pela cidade.\n> \n> **Desejamos a vocês uma viagem inesquecível, explorando a beleza natural de Londres e criando memórias preciosas em família!** \n"
          },
          "metadata": {}
        },
        {
          "output_type": "stream",
          "name": "stdout",
          "text": [
            "-------------------------------------------\n"
          ]
        },
        {
          "output_type": "display_data",
          "data": {
            "text/plain": [
              "<IPython.core.display.Markdown object>"
            ],
            "text/markdown": "> **user**: Crie um roteiro de viagem de 4 dias para Vinhedo, na médiaalta com orçamento alto, focado em aventura, para um viajante familiar."
          },
          "metadata": {}
        },
        {
          "output_type": "stream",
          "name": "stdout",
          "text": [
            "-------------------------------------------\n"
          ]
        },
        {
          "output_type": "display_data",
          "data": {
            "text/plain": [
              "<IPython.core.display.Markdown object>"
            ],
            "text/markdown": "> **model**: ## Aventura em Família em Vinhedo - 4 Dias (Orçamento Alto)\n> \n> Preparem-se para uma viagem inesquecível de 4 dias em Vinhedo, repleta de adrenalina, paisagens deslumbrantes e momentos memoráveis para toda a família!\n> \n> **Dia 1 - Chegada Relaxante e Delícias Italianas:**\n> \n> * **Manhã:** Chegada em Vinhedo e acomodação no luxuoso Hotel Vila Michelon, um refúgio romântico com vista para as montanhas. Relaxe e aproveite as piscinas, áreas de lazer e o charme acolhedor do hotel.\n> * **Tarde:** Explore a cidade de Vinhedo, visitando a charmosa Igreja Matriz de Sant'Ana e o Museu de Vinhedo, que conta a história da cidade e da produção de uvas.\n> * **Noite:**  Delicie-se com um jantar sofisticado no renomado restaurante **Famiglia Mancini Ristorante**, saboreando autêntica culinária italiana em um ambiente elegante e acolhedor.\n> \n> **Dia 2 - Aventuras nas Alturas e Emoções Radicais:**\n> \n> * **Manhã:** Desafie seus limites no **Adrenalin Park**, um parque de aventura com tirolesas emocionantes, arvorismo desafiador, paintball estratégico e outras atividades que farão sua adrenalina disparar.\n> * **Tarde:**  Experimente a emoção de um **voo de parapente**, apreciando vistas espetaculares de Vinhedo e da Serra dos Cocais.\n> * **Noite:**  Jantar em um restaurante aconchegante na área rural de Vinhedo, saboreando pratos da culinária local e desfrutando da atmosfera tranquila.\n> \n> **Dia 3 - Exploração, Relaxamento e Sabores Inesquecíveis:**\n> \n> * **Manhã:** Explore a beleza natural da região em um **passeio de bicicleta** pelas trilhas da Serra dos Cocais, desfrutando de paisagens verdejantes, ar puro e vistas panorâmicas.\n> * **Tarde:**  Relaxe e recarregue as energias no **Spa do Hotel Vila Michelon**, desfrutando de massagens relaxantes, tratamentos revigorantes e momentos de tranquilidade.\n> * **Noite:**  Encerre sua aventura com um jantar memorável no restaurante **Esquinica**, um dos melhores da região, com gastronomia contemporânea, ambiente sofisticado e sabores que irão encantá-lo.\n> \n> **Dia 4 - Despedida Deliciosa e Compras Charmosas:**\n> \n> * **Manhã:**  Desfrute de um delicioso café da manhã no hotel, com vista para as montanhas.\n> * **Tarde:**  Passeie pelo centro de Vinhedo, visitando lojas de artesanato local, boutiques charmosas e cafés aconchegantes.\n> * **Noite:**  Check-out do hotel e traslado para o aeroporto, levando na bagagem lembranças inesquecíveis da aventura em Vinhedo.\n> \n> **Observações:**\n> \n> * Este roteiro é uma sugestão, você pode personalizá-lo de acordo com as preferências da sua família.\n> * O orçamento alto permite desfrutar de hotéis de luxo, restaurantes sofisticados, atividades premium e experiências exclusivas.\n> * Certifique-se de fazer reservas com antecedência para garantir a disponibilidade de hotéis, passeios e restaurantes.\n> * Use roupas e calçados confortáveis para as atividades de aventura.\n> * Leve protetor solar, repelente contra mosquitos e outros itens essenciais para aproveitar ao máximo as atividades ao ar livre.\n> \n> **Desejamos a vocês uma viagem inesquecível repleta de aventura, momentos memoráveis e paisagens encantadoras em Vinhedo!** \n"
          },
          "metadata": {}
        },
        {
          "output_type": "stream",
          "name": "stdout",
          "text": [
            "-------------------------------------------\n"
          ]
        },
        {
          "output_type": "display_data",
          "data": {
            "text/plain": [
              "<IPython.core.display.Markdown object>"
            ],
            "text/markdown": "> **user**: Crie um roteiro de viagem de 3 dias para Campinas, na médiaalta com orçamento alto, focado em aventura, para um viajante familiar."
          },
          "metadata": {}
        },
        {
          "output_type": "stream",
          "name": "stdout",
          "text": [
            "-------------------------------------------\n"
          ]
        },
        {
          "output_type": "display_data",
          "data": {
            "text/plain": [
              "<IPython.core.display.Markdown object>"
            ],
            "text/markdown": "> **model**: ## Aventura em Família em Campinas - 3 Dias (Orçamento Alto)\n> \n> Preparem-se para uma viagem emocionante de 3 dias em Campinas, repleta de adrenalina, descobertas e momentos memoráveis para toda a família!\n> \n> **Dia 1 - Chegada Relaxante e Aventuras Aéreas:**\n> \n> * **Manhã:** Chegada em Campinas e acomodação no elegante The Royal Palm Plaza Resort Campinas. Relaxe e aproveite as piscinas, áreas de lazer e o conforto deste hotel 5 estrelas.\n> * **Tarde:**  Desfrute da emoção de um voo panorâmico de **balão**, contemplando paisagens deslumbrantes de Campinas e seus arredores.\n> * **Noite:**  Jantar sofisticado no restaurante **Casa Bellini**, com culinária italiana refinada e ambiente elegante.\n> \n> **Dia 2 - Trilhas, Cachoeiras e Encontro com a Natureza:**\n> \n> * **Manhã:** Explore a natureza exuberante do **Parque Estadual Serra do Japi** em uma trilha guiada, desfrutando de paisagens deslumbrantes, cachoeiras refrescantes e ar puro.\n> * **Tarde:**  Aventura emocionante em um **passeio de quadriciclo** pelas trilhas da região, desfrutando da adrenalina e da beleza natural.\n> * **Noite:**  Delicie-se com uma autêntica pizza napolitana no premiado restaurante **1900 Pizzeria**, com massa leve, ingredientes frescos e sabores irresistíveis.\n> \n> **Dia 3 - Velocidade, Emoção e Despedida em Grande Estilo:**\n> \n> * **Manhã:**  Acelere a adrenalina no **Campinas Kartódromo Internacional**, desafiando seus familiares em corridas emocionantes de kart.\n> * **Tarde:**  Relaxe no **Spa do The Royal Palm Plaza Resort**, desfrutando de massagens relaxantes e tratamentos revigorantes para recarregar as energias.\n> * **Noite:**  Jantar especial no sofisticado restaurante **Coco Bambu Campinas**, com culinária brasileira contemporânea e ambiente elegante. Despedida com chave de ouro!\n> \n> **Observações:**\n> \n> * Este roteiro é uma sugestão, você pode personalizá-lo de acordo com as preferências da sua família.\n> * O orçamento alto permite desfrutar de hotéis de luxo, restaurantes sofisticados, atividades premium e experiências exclusivas.\n> * Certifique-se de fazer reservas com antecedência para garantir a disponibilidade de hotéis, passeios e restaurantes.\n> * Use roupas e calçados confortáveis para as atividades de aventura.\n> * Leve protetor solar, repelente contra mosquitos e outros itens essenciais para aproveitar ao máximo as atividades ao ar livre.\n> \n> **Desejamos a vocês uma viagem inesquecível cheia de aventura, momentos memoráveis e experiências enriquecedoras em Campinas!** \n"
          },
          "metadata": {}
        },
        {
          "output_type": "stream",
          "name": "stdout",
          "text": [
            "-------------------------------------------\n"
          ]
        }
      ]
    }
  ],
  "metadata": {
    "colab": {
      "provenance": [],
      "authorship_tag": "ABX9TyNQjbpYcMNtLrqJ8AsRE3Dl",
      "include_colab_link": true
    },
    "kernelspec": {
      "display_name": "Python 3",
      "name": "python3"
    },
    "language_info": {
      "name": "python"
    }
  },
  "nbformat": 4,
  "nbformat_minor": 0
}